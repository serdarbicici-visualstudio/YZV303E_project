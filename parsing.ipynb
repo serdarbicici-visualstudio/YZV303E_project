{
 "cells": [
  {
   "cell_type": "code",
   "execution_count": 12,
   "metadata": {},
   "outputs": [
    {
     "name": "stdout",
     "output_type": "stream",
     "text": [
      "API key loaded successfully!\n",
      "Content saved in: istanbul_places_content.txt\n"
     ]
    }
   ],
   "source": [
    "import pandas as pd\n",
    "import os\n",
    "from dotenv import load_dotenv\n",
    "\n",
    "# Load environment variables from the .env file\n",
    "load_dotenv()\n",
    "\n",
    "# Access the API key\n",
    "api_key = os.getenv(\"LLAMA_API_KEY\")\n",
    "\n",
    "if api_key:\n",
    "    print(\"API key loaded successfully!\")\n",
    "else:\n",
    "    print(\"API key not found. Check your .env file.\")\n",
    "\n",
    "\n",
    "# Load the CSV file\n",
    "file_path = 'istanbul_places_wikipedia.csv'  \n",
    "df = pd.read_csv(file_path)\n",
    "\n",
    "# Create a single text file with only content\n",
    "output_file = 'istanbul_places_content.txt'\n",
    "\n",
    "with open(output_file, 'w', encoding='utf-8') as f:\n",
    "    for content in df['Content']:\n",
    "        f.write(f\"{content}\\n\")\n",
    "        \n",
    "\n",
    "print(f\"Content saved in: {output_file}\")\n",
    "\n",
    "\n"
   ]
  },
  {
   "cell_type": "markdown",
   "metadata": {},
   "source": [
    "In the initial step, we used LLama Parser to chunk the txt for benchmark creation"
   ]
  },
  {
   "cell_type": "code",
   "execution_count": 8,
   "metadata": {},
   "outputs": [
    {
     "name": "stdout",
     "output_type": "stream",
     "text": [
      "Started parsing the file under job_id 1d8132dd-f018-4988-abe3-286e9f751a42\n"
     ]
    }
   ],
   "source": [
    "import nest_asyncio\n",
    "\n",
    "nest_asyncio.apply()\n",
    "\n",
    "from llama_parse import LlamaParse\n",
    "\n",
    "parser = LlamaParse(\n",
    "    api_key=api_key,  \n",
    "    result_type=\"markdown\",  # \"markdown\" and \"text\" are available\n",
    "    num_workers=4,  # if multiple files passed, split in `num_workers` API calls\n",
    "    verbose=True,\n",
    "    language=\"en\",  \n",
    ")\n",
    "\n",
    "# sync\n",
    "documents_2 = parser.load_data(\"istanbul_places_content.txt\")\n",
    "\n",
    "\n",
    "\n",
    "\n",
    "\n",
    "\n",
    "\n"
   ]
  },
  {
   "cell_type": "markdown",
   "metadata": {},
   "source": [
    "Comment: Parsing and chunking the wikipedia informations by using Llama Parser in order to create our benchmark"
   ]
  },
  {
   "cell_type": "code",
   "execution_count": 9,
   "metadata": {},
   "outputs": [
    {
     "name": "stdout",
     "output_type": "stream",
     "text": [
      "Documents saved in: istanbul_places_documents_2.json\n"
     ]
    }
   ],
   "source": [
    "import json\n",
    "\n",
    "# Assuming 'documents' contains a list of Document objects\n",
    "# Extract text content from each document\n",
    "serializable_documents = [{\"text\": doc.text} for doc in documents_2]\n",
    "\n",
    "# Save the processed data as JSON\n",
    "output_file = 'istanbul_places_documents_2.json'\n",
    "\n",
    "with open(output_file, 'w', encoding='utf-8') as f:\n",
    "    json.dump(serializable_documents, f, ensure_ascii=False, indent=4)\n",
    "\n",
    "print(f\"Documents saved in: {output_file}\")"
   ]
  },
  {
   "cell_type": "markdown",
   "metadata": {},
   "source": [
    "Printing the character count in istanbul_places_content.txt"
   ]
  },
  {
   "cell_type": "code",
   "execution_count": 13,
   "metadata": {},
   "outputs": [
    {
     "name": "stdout",
     "output_type": "stream",
     "text": [
      "Number of characters in the file: 753364\n"
     ]
    }
   ],
   "source": [
    "# Specify the file path\n",
    "file_path = 'istanbul_places_content.txt'  \n",
    "\n",
    "# Read the file and count characters\n",
    "with open(file_path, 'r', encoding='utf-8') as file:\n",
    "    content = file.read()\n",
    "    char_count = len(content)  # Count characters\n",
    "\n",
    "print(f\"Number of characters in the file: {char_count}\")\n"
   ]
  },
  {
   "cell_type": "markdown",
   "metadata": {},
   "source": [
    "Now, we add additional information from IBB Museums into our existing istanbul_places_content.txt"
   ]
  },
  {
   "cell_type": "code",
   "execution_count": 14,
   "metadata": {},
   "outputs": [
    {
     "name": "stdout",
     "output_type": "stream",
     "text": [
      "Descriptions appended successfully!\n"
     ]
    }
   ],
   "source": [
    "import json\n",
    "\n",
    "# File paths\n",
    "txt_file_path = 'istanbul_places_content.txt'\n",
    "json_file_path = 'museum_data.json'\n",
    "\n",
    "# Read the existing text file or initialize if not found\n",
    "try:\n",
    "    with open(txt_file_path, 'r', encoding='utf-8') as file:\n",
    "        existing_content = file.read()\n",
    "except FileNotFoundError:\n",
    "    existing_content = \"\"\n",
    "\n",
    "# Read additional data from the JSON file\n",
    "try:\n",
    "    with open(json_file_path, 'r', encoding='utf-8') as file:\n",
    "        additional_data = json.load(file)\n",
    "except FileNotFoundError:\n",
    "    print(f\"Error: '{json_file_path}' not found!\")\n",
    "    additional_data = []\n",
    "\n",
    "# Append descriptions to the existing content\n",
    "for entry in additional_data:\n",
    "    if 'description' in entry:\n",
    "        existing_content += \"\\n\\n\" + entry['description']\n",
    "\n",
    "# Write updated content back to the text file\n",
    "with open(txt_file_path, 'w', encoding='utf-8') as file:\n",
    "    file.write(existing_content)\n",
    "\n",
    "print(\"Descriptions appended successfully!\")\n"
   ]
  },
  {
   "cell_type": "markdown",
   "metadata": {},
   "source": [
    "Now, number of characters increase"
   ]
  },
  {
   "cell_type": "code",
   "execution_count": 15,
   "metadata": {},
   "outputs": [
    {
     "name": "stdout",
     "output_type": "stream",
     "text": [
      "Number of characters in the file: 818243\n"
     ]
    }
   ],
   "source": [
    "# Specify the file path\n",
    "file_path = 'istanbul_places_content.txt'  \n",
    "\n",
    "# Read the file and count characters\n",
    "with open(file_path, 'r', encoding='utf-8') as file:\n",
    "    content = file.read()\n",
    "    char_count = len(content)  # Count characters\n",
    "\n",
    "print(f\"Number of characters in the file: {char_count}\")"
   ]
  },
  {
   "cell_type": "markdown",
   "metadata": {},
   "source": [
    "Recursive Character Splitter"
   ]
  },
  {
   "cell_type": "code",
   "execution_count": 3,
   "metadata": {},
   "outputs": [
    {
     "name": "stdout",
     "output_type": "stream",
     "text": [
      "2408 chunks saved successfully in 'chunks.txt'\n"
     ]
    }
   ],
   "source": [
    "from langchain.text_splitter import RecursiveCharacterTextSplitter\n",
    "\n",
    "# Read the text file\n",
    "with open('istanbul_places_content.txt', 'r', encoding='utf-8') as file:\n",
    "    text = file.read()\n",
    "\n",
    "# Initialize Recursive Character Splitter\n",
    "text_splitter = RecursiveCharacterTextSplitter(\n",
    "    chunk_size=500,       # Max size of each chunk\n",
    "    chunk_overlap=50,     # Overlap between chunks for context\n",
    "    separators=[\"\\n\\n\", \"\\n\", \" \", \"\"],  # Split by paragraphs, lines, spaces, characters\n",
    ")\n",
    "\n",
    "# Split the text into chunks\n",
    "chunks = text_splitter.split_text(text)\n",
    "\n",
    "# Save chunks into a new text file\n",
    "with open('chunks.txt', 'w', encoding='utf-8') as chunk_file:\n",
    "    for i, chunk in enumerate(chunks):\n",
    "        chunk_file.write(f\"Chunk {i+1}:\\n{chunk}\\n\\n\")\n",
    "\n",
    "print(f\"{len(chunks)} chunks saved successfully in 'chunks.txt'\")\n"
   ]
  },
  {
   "cell_type": "markdown",
   "metadata": {},
   "source": [
    "Fixed Size Chunking"
   ]
  },
  {
   "cell_type": "code",
   "execution_count": 4,
   "metadata": {},
   "outputs": [
    {
     "name": "stdout",
     "output_type": "stream",
     "text": [
      "1675 fixed-size chunks saved successfully in 'fixed_chunks.txt'\n"
     ]
    }
   ],
   "source": [
    "# Read the text file\n",
    "with open('istanbul_places_content.txt', 'r', encoding='utf-8') as file:\n",
    "    text = file.read()\n",
    "\n",
    "# Fixed-size chunking function\n",
    "def fixed_size_chunking(text, chunk_size=500, overlap=50):\n",
    "    chunks = []\n",
    "    start = 0\n",
    "\n",
    "    while start < len(text):\n",
    "        # Define the end position with overlap\n",
    "        end = start + chunk_size\n",
    "\n",
    "        # Add chunk to the list\n",
    "        chunks.append(text[start:end])\n",
    "\n",
    "        # Move the start forward considering overlap\n",
    "        start += chunk_size - overlap\n",
    "    \n",
    "    return chunks\n",
    "\n",
    "# Generate chunks\n",
    "fixed_chunks = fixed_size_chunking(text, chunk_size=500, overlap=50)\n",
    "\n",
    "# Save fixed-size chunks to a text file\n",
    "with open('fixed_chunks.txt', 'w', encoding='utf-8') as chunk_file:\n",
    "    for i, chunk in enumerate(fixed_chunks):\n",
    "        chunk_file.write(f\"Chunk {i+1}:\\n{chunk}\\n\\n\")\n",
    "\n",
    "print(f\"{len(fixed_chunks)} fixed-size chunks saved successfully in 'fixed_chunks.txt'\")"
   ]
  },
  {
   "cell_type": "markdown",
   "metadata": {},
   "source": [
    "Semantic Chunking"
   ]
  },
  {
   "cell_type": "code",
   "execution_count": 5,
   "metadata": {},
   "outputs": [
    {
     "name": "stdout",
     "output_type": "stream",
     "text": [
      "4582 semantic chunks saved successfully in 'semantic_chunks.txt'\n"
     ]
    }
   ],
   "source": [
    "import spacy\n",
    "\n",
    "# Load the pre-trained NLP model\n",
    "nlp = spacy.load(\"en_core_web_sm\")  # Use 'en_core_web_lg' for better accuracy with larger models\n",
    "\n",
    "# Read the text file\n",
    "with open('istanbul_places_content.txt', 'r', encoding='utf-8') as file:\n",
    "    text = file.read()\n",
    "\n",
    "def semantic_chunking(text, max_length=500, overlap=50):\n",
    "    # Process the text with spaCy\n",
    "    doc = nlp(text)\n",
    "    \n",
    "    chunks = []\n",
    "    current_chunk = \"\"\n",
    "    for sent in doc.sents:  # Iterate through sentences\n",
    "        # Add the sentence if it fits in the current chunk\n",
    "        if len(current_chunk) + len(sent.text) <= max_length:\n",
    "            current_chunk += sent.text + \" \"\n",
    "        else:\n",
    "            # Add the current chunk to the list and start a new chunk with overlap\n",
    "            chunks.append(current_chunk.strip())\n",
    "            current_chunk = \" \".join(current_chunk.split()[-overlap:]) + \" \" + sent.text\n",
    "    \n",
    "    # Append the last chunk\n",
    "    if current_chunk:\n",
    "        chunks.append(current_chunk.strip())\n",
    "    \n",
    "    return chunks\n",
    "\n",
    "# Generate semantic chunks\n",
    "semantic_chunks = semantic_chunking(text, max_length=500, overlap=50)\n",
    "\n",
    "# Save the chunks to a text file\n",
    "with open('semantic_chunks.txt', 'w', encoding='utf-8') as chunk_file:\n",
    "    for i, chunk in enumerate(semantic_chunks):\n",
    "        chunk_file.write(f\"Chunk {i+1}:\\n{chunk}\\n\\n\")\n",
    "\n",
    "print(f\"{len(semantic_chunks)} semantic chunks saved successfully in 'semantic_chunks.txt'\")\n"
   ]
  }
 ],
 "metadata": {
  "kernelspec": {
   "display_name": "Python 3",
   "language": "python",
   "name": "python3"
  },
  "language_info": {
   "codemirror_mode": {
    "name": "ipython",
    "version": 3
   },
   "file_extension": ".py",
   "mimetype": "text/x-python",
   "name": "python",
   "nbconvert_exporter": "python",
   "pygments_lexer": "ipython3",
   "version": "3.10.5"
  }
 },
 "nbformat": 4,
 "nbformat_minor": 2
}
