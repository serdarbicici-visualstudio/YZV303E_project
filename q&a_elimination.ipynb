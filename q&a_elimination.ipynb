{
 "cells": [
  {
   "cell_type": "code",
   "execution_count": 4,
   "metadata": {},
   "outputs": [],
   "source": [
    "# Importing the required libraries\n",
    "from dotenv import load_dotenv\n",
    "from datasets import load_dataset\n",
    "import os\n",
    "from openai import OpenAI\n",
    "from eval_metrics import faithfulness_metric,relevancy_metric\n",
    "from tqdm import tqdm\n",
    "from datasets import Dataset, DatasetDict\n",
    "import json\n",
    "import pandas as pd"
   ]
  },
  {
   "cell_type": "code",
   "execution_count": 5,
   "metadata": {},
   "outputs": [],
   "source": [
    "# Specify the path to your .env file\n",
    "env_path = 'deep_infra.env'\n",
    "\n",
    "# Load the .env file\n",
    "load_dotenv(env_path)\n",
    "api_key = os.getenv('DEEPINFRA_API_TOKEN')"
   ]
  },
  {
   "cell_type": "code",
   "execution_count": null,
   "metadata": {},
   "outputs": [],
   "source": [
    "# --- Initialize OpenAI Client with DeepInfra ---\n",
    "openai = OpenAI(\n",
    "    api_key=api_key,\n",
    "    base_url=\"https://api.deepinfra.com/v1/openai\",\n",
    ")\n",
    "\n",
    "# Load dataset\n",
    "dataset = load_dataset(\n",
    "    path='BlackFear/dl_project_uncleaned',\n",
    "    trust_remote_code=True,\n",
    ")\n",
    "data = dataset['train']\n",
    "\n",
    "# Extract data\n",
    "queries = data['question']\n",
    "answers = data['answer']\n",
    "contexts = data['retrieved_contexts']\n",
    "\n",
    "scores = pd.DataFrame(columns=['id', 'faithfulness', 'relevancy'])\n",
    "# --- Run Evaluation ---\n",
    "for i in tqdm(range(len(queries))):\n",
    "    query = queries[i]\n",
    "    context = contexts[i]\n",
    "    answer = answers[i]\n",
    "    faith = faithfulness_metric(query, context)\n",
    "    rel = relevancy_metric(query, answer)\n",
    "    \n",
    "    scores = scores.append({'id': i, 'faithfulness': faith, 'relevancy': rel}, ignore_index=True)\n",
    "\n",
    "# Save scores\n",
    "scores.to_csv('scores.csv', index=False)"
   ]
  }
 ],
 "metadata": {
  "kernelspec": {
   "display_name": "deepl",
   "language": "python",
   "name": "python3"
  },
  "language_info": {
   "codemirror_mode": {
    "name": "ipython",
    "version": 3
   },
   "file_extension": ".py",
   "mimetype": "text/x-python",
   "name": "python",
   "nbconvert_exporter": "python",
   "pygments_lexer": "ipython3",
   "version": "3.9.21"
  }
 },
 "nbformat": 4,
 "nbformat_minor": 2
}
